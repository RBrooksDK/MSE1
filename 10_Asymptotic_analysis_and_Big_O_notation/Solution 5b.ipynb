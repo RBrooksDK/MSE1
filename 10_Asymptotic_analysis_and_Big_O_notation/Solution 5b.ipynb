{
 "cells": [
  {
   "cell_type": "code",
   "execution_count": 1,
   "metadata": {},
   "outputs": [
    {
     "name": "stdout",
     "output_type": "stream",
     "text": [
      "The largest input size n that can be processed in 60 seconds is approximately 3,656,806\n"
     ]
    }
   ],
   "source": [
    "import math\n",
    "\n",
    "# Given data\n",
    "T_given = 0.0005       # Time for n_given in seconds\n",
    "n_given = 100          # Given input size\n",
    "desired_time = 60      # Desired time in seconds\n",
    "\n",
    "# Compute k\n",
    "k = T_given / (n_given * math.log2(n_given))\n",
    "\n",
    "# Compute the target value\n",
    "target = desired_time / k\n",
    "\n",
    "# Implement binary search\n",
    "low = 1\n",
    "high = 12000000   # Upper limit, we now that the solution is below this value\n",
    "epsilon = 1e-6  # Tolerance for convergence\n",
    "\n",
    "while low <= high:\n",
    "    mid = (low + high) / 2\n",
    "    func_value = mid * math.log2(mid) - target\n",
    "\n",
    "    if abs(func_value) < epsilon:\n",
    "        break  # Solution found within the desired tolerance\n",
    "    elif func_value < 0:\n",
    "        low = mid + 1\n",
    "    else:\n",
    "        high = mid - 1\n",
    "\n",
    "# Since mid may not be an integer, we can take the integer part\n",
    "n_solution = int(mid)\n",
    "\n",
    "print(f\"The largest input size n that can be processed in {desired_time} seconds is approximately {n_solution:,}\")\n"
   ]
  }
 ],
 "metadata": {
  "kernelspec": {
   "display_name": "base",
   "language": "python",
   "name": "python3"
  },
  "language_info": {
   "codemirror_mode": {
    "name": "ipython",
    "version": 3
   },
   "file_extension": ".py",
   "mimetype": "text/x-python",
   "name": "python",
   "nbconvert_exporter": "python",
   "pygments_lexer": "ipython3",
   "version": "3.11.4"
  }
 },
 "nbformat": 4,
 "nbformat_minor": 2
}
