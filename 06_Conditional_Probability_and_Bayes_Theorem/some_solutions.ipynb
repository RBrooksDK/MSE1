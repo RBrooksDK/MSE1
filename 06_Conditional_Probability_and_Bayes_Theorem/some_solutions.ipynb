{
 "cells": [
  {
   "cell_type": "code",
   "execution_count": 1,
   "metadata": {},
   "outputs": [
    {
     "data": {
      "text/plain": [
       "(0.9398, 0.9512)"
      ]
     },
     "execution_count": 1,
     "metadata": {},
     "output_type": "execute_result"
    }
   ],
   "source": [
    "# Given probabilities\n",
    "P_A = 0.83\n",
    "P_B = 0.82\n",
    "P_A_and_B = 0.78\n",
    "\n",
    "# a. P(B|A)\n",
    "P_B_given_A = P_A_and_B / P_A\n",
    "P_B_given_A = round(P_B_given_A, 4)\n",
    "\n",
    "# b. P(A|B)\n",
    "P_A_given_B = P_A_and_B / P_B\n",
    "P_A_given_B = round(P_A_given_B, 4)\n",
    "\n",
    "P_B_given_A, P_A_given_B"
   ]
  },
  {
   "cell_type": "code",
   "execution_count": 2,
   "metadata": {},
   "outputs": [
    {
     "data": {
      "text/plain": [
       "0.2353"
      ]
     },
     "execution_count": 2,
     "metadata": {},
     "output_type": "execute_result"
    }
   ],
   "source": [
    "# c. P(B|not A)\n",
    "P_B_given_not_A = (P_B - P_A_and_B) / (1 - P_A)\n",
    "P_B_given_not_A = round(P_B_given_not_A, 4)\n",
    "\n",
    "P_B_given_not_A"
   ]
  },
  {
   "cell_type": "code",
   "execution_count": 3,
   "metadata": {},
   "outputs": [
    {
     "data": {
      "text/html": [
       "<div>\n",
       "<style scoped>\n",
       "    .dataframe tbody tr th:only-of-type {\n",
       "        vertical-align: middle;\n",
       "    }\n",
       "\n",
       "    .dataframe tbody tr th {\n",
       "        vertical-align: top;\n",
       "    }\n",
       "\n",
       "    .dataframe thead th {\n",
       "        text-align: right;\n",
       "    }\n",
       "</style>\n",
       "<table border=\"1\" class=\"dataframe\">\n",
       "  <thead>\n",
       "    <tr style=\"text-align: right;\">\n",
       "      <th></th>\n",
       "      <th>ICT</th>\n",
       "      <th>Civil</th>\n",
       "      <th>Mechanical</th>\n",
       "      <th>Global Business</th>\n",
       "    </tr>\n",
       "  </thead>\n",
       "  <tbody>\n",
       "    <tr>\n",
       "      <th>Employed/Studying</th>\n",
       "      <td>102.0</td>\n",
       "      <td>80.0</td>\n",
       "      <td>36.0</td>\n",
       "      <td>22.0</td>\n",
       "    </tr>\n",
       "    <tr>\n",
       "      <th>Unemployed</th>\n",
       "      <td>18.0</td>\n",
       "      <td>20.0</td>\n",
       "      <td>9.0</td>\n",
       "      <td>13.0</td>\n",
       "    </tr>\n",
       "  </tbody>\n",
       "</table>\n",
       "</div>"
      ],
      "text/plain": [
       "                     ICT  Civil  Mechanical  Global Business\n",
       "Employed/Studying  102.0   80.0        36.0             22.0\n",
       "Unemployed          18.0   20.0         9.0             13.0"
      ]
     },
     "execution_count": 3,
     "metadata": {},
     "output_type": "execute_result"
    }
   ],
   "source": [
    "import pandas as pd\n",
    "\n",
    "# Total number of students\n",
    "total_students = 300\n",
    "\n",
    "# ICT Engineering\n",
    "ict_students = 0.40 * total_students\n",
    "ict_employed = 0.85 * ict_students\n",
    "ict_unemployed = ict_students - ict_employed\n",
    "\n",
    "# Civil Engineering\n",
    "civil_students = 100\n",
    "civil_unemployed = 0.20 * civil_students\n",
    "civil_employed = civil_students - civil_unemployed\n",
    "\n",
    "# Mechanical Engineering\n",
    "mech_unemployed = 9\n",
    "mech_students = mech_unemployed / 0.20\n",
    "mech_employed = mech_students - mech_unemployed\n",
    "\n",
    "# Global Business Engineering\n",
    "total_unemployed = 0.20 * total_students\n",
    "glo_unemployed = total_unemployed - (ict_unemployed + civil_unemployed + mech_unemployed)\n",
    "glo_students = total_students - (ict_students + civil_students + mech_students)\n",
    "glo_employed = glo_students - glo_unemployed\n",
    "\n",
    "# Constructing the contingency table\n",
    "contingency_table = pd.DataFrame({\n",
    "    'ICT': [ict_employed, ict_unemployed],\n",
    "    'Civil': [civil_employed, civil_unemployed],\n",
    "    'Mechanical': [mech_employed, mech_unemployed],\n",
    "    'Global Business': [glo_employed, glo_unemployed]\n",
    "}, index=['Employed/Studying', 'Unemployed'])\n",
    "\n",
    "contingency_table"
   ]
  },
  {
   "cell_type": "code",
   "execution_count": 4,
   "metadata": {},
   "outputs": [
    {
     "data": {
      "text/html": [
       "<div>\n",
       "<style scoped>\n",
       "    .dataframe tbody tr th:only-of-type {\n",
       "        vertical-align: middle;\n",
       "    }\n",
       "\n",
       "    .dataframe tbody tr th {\n",
       "        vertical-align: top;\n",
       "    }\n",
       "\n",
       "    .dataframe thead th {\n",
       "        text-align: right;\n",
       "    }\n",
       "</style>\n",
       "<table border=\"1\" class=\"dataframe\">\n",
       "  <thead>\n",
       "    <tr style=\"text-align: right;\">\n",
       "      <th></th>\n",
       "      <th>ICT</th>\n",
       "      <th>Civil</th>\n",
       "      <th>Mechanical</th>\n",
       "      <th>Global Business</th>\n",
       "      <th>Total</th>\n",
       "    </tr>\n",
       "  </thead>\n",
       "  <tbody>\n",
       "    <tr>\n",
       "      <th>Employed/Studying</th>\n",
       "      <td>102.0</td>\n",
       "      <td>80.0</td>\n",
       "      <td>36.0</td>\n",
       "      <td>22.0</td>\n",
       "      <td>240.0</td>\n",
       "    </tr>\n",
       "    <tr>\n",
       "      <th>Unemployed</th>\n",
       "      <td>18.0</td>\n",
       "      <td>20.0</td>\n",
       "      <td>9.0</td>\n",
       "      <td>13.0</td>\n",
       "      <td>60.0</td>\n",
       "    </tr>\n",
       "    <tr>\n",
       "      <th>Total</th>\n",
       "      <td>120.0</td>\n",
       "      <td>100.0</td>\n",
       "      <td>45.0</td>\n",
       "      <td>35.0</td>\n",
       "      <td>300.0</td>\n",
       "    </tr>\n",
       "  </tbody>\n",
       "</table>\n",
       "</div>"
      ],
      "text/plain": [
       "                     ICT  Civil  Mechanical  Global Business  Total\n",
       "Employed/Studying  102.0   80.0        36.0             22.0  240.0\n",
       "Unemployed          18.0   20.0         9.0             13.0   60.0\n",
       "Total              120.0  100.0        45.0             35.0  300.0"
      ]
     },
     "execution_count": 4,
     "metadata": {},
     "output_type": "execute_result"
    }
   ],
   "source": [
    "# Adding sums of the rows and columns\n",
    "contingency_table.loc['Total'] = contingency_table.sum()\n",
    "contingency_table['Total'] = contingency_table.sum(axis=1)\n",
    "\n",
    "contingency_table"
   ]
  },
  {
   "cell_type": "code",
   "execution_count": 6,
   "metadata": {},
   "outputs": [
    {
     "name": "stdout",
     "output_type": "stream",
     "text": [
      "P(ICT|Unemployed) = 3/10\n",
      "P(GBE|Unemployed) = 13/60\n",
      "Is being unemployed independent from being a former ICT student? False\n"
     ]
    }
   ],
   "source": [
    "from fractions import Fraction\n",
    "\n",
    "# b. Probability that an unemployed respondent is a former ICT student\n",
    "P_ICT_given_Unemployed = Fraction(int(contingency_table.loc['Unemployed', 'ICT']), int(contingency_table.loc['Unemployed', 'Total']))\n",
    "print(f\"P(ICT|Unemployed) = {P_ICT_given_Unemployed}\")\n",
    "\n",
    "# c. Probability that an unemployed respondent was a GBE student\n",
    "P_GBE_given_Unemployed = Fraction(int(contingency_table.loc['Unemployed', 'Global Business']), int(contingency_table.loc['Unemployed', 'Total']))\n",
    "print(f\"P(GBE|Unemployed) = {P_GBE_given_Unemployed}\")\n",
    "\n",
    "# d. Check if being unemployed is independent from being a former ICT student\n",
    "P_Unemployed = Fraction(int(contingency_table.loc['Unemployed', 'Total']), int(contingency_table.loc['Total', 'Total']))\n",
    "P_ICT = Fraction(int(contingency_table.loc['Total', 'ICT']), int(contingency_table.loc['Total', 'Total']))\n",
    "P_Unemployed_and_ICT = Fraction(int(contingency_table.loc['Unemployed', 'ICT']), int(contingency_table.loc['Total', 'Total']))\n",
    "\n",
    "independent = P_Unemployed_and_ICT == P_Unemployed * P_ICT\n",
    "print(f\"Is being unemployed independent from being a former ICT student? {independent}\")"
   ]
  },
  {
   "cell_type": "code",
   "execution_count": 7,
   "metadata": {},
   "outputs": [
    {
     "data": {
      "text/plain": [
       "(0.4278, 0.5348, 0.0374)"
      ]
     },
     "execution_count": 7,
     "metadata": {},
     "output_type": "execute_result"
    }
   ],
   "source": [
    "# Given probabilities\n",
    "P_A = 0.1\n",
    "P_B = 0.2\n",
    "P_W = 1 - P_A - P_B  # Probability of no disease\n",
    "\n",
    "P_T_given_A = 0.8\n",
    "P_T_given_B = 0.5\n",
    "P_T_given_W = 0.01\n",
    "\n",
    "# Calculate P(T)\n",
    "P_T = P_T_given_A * P_A + P_T_given_B * P_B + P_T_given_W * P_W\n",
    "\n",
    "# Calculate P(A|T)\n",
    "P_A_given_T = (P_T_given_A * P_A) / P_T\n",
    "P_A_given_T = round(P_A_given_T, 4)\n",
    "\n",
    "# Calculate P(B|T)\n",
    "P_B_given_T = (P_T_given_B * P_B) / P_T\n",
    "P_B_given_T = round(P_B_given_T, 4)\n",
    "\n",
    "# Calculate P(W|T)\n",
    "P_W_given_T = (P_T_given_W * P_W) / P_T\n",
    "P_W_given_T = round(P_W_given_T, 4)\n",
    "\n",
    "P_A_given_T, P_B_given_T, P_W_given_T"
   ]
  }
 ],
 "metadata": {
  "kernelspec": {
   "display_name": "base",
   "language": "python",
   "name": "python3"
  },
  "language_info": {
   "codemirror_mode": {
    "name": "ipython",
    "version": 3
   },
   "file_extension": ".py",
   "mimetype": "text/x-python",
   "name": "python",
   "nbconvert_exporter": "python",
   "pygments_lexer": "ipython3",
   "version": "3.11.4"
  }
 },
 "nbformat": 4,
 "nbformat_minor": 2
}
