{
 "cells": [
  {
   "cell_type": "code",
   "execution_count": 6,
   "metadata": {},
   "outputs": [],
   "source": [
    "from sympy import *\n",
    "init_printing()"
   ]
  },
  {
   "cell_type": "code",
   "execution_count": 7,
   "metadata": {},
   "outputs": [
    {
     "data": {
      "image/png": "[encoded data removed]",
      "text/latex": [
       "$\\displaystyle \\left( \\left[\\begin{matrix}2 & 1\\\\1 & 4\\end{matrix}\\right], \\  \\left[\\begin{matrix}1 & 2 & 0\\\\0 & 1 & 2\\end{matrix}\\right]\\right)$"
      ],
      "text/plain": [
       "⎛⎡2  1⎤  ⎡1  2  0⎤⎞\n",
       "⎜⎢    ⎥, ⎢       ⎥⎟\n",
       "⎝⎣1  4⎦  ⎣0  1  2⎦⎠"
      ]
     },
     "execution_count": 7,
     "metadata": {},
     "output_type": "execute_result"
    }
   ],
   "source": [
    "A = Matrix([[2,1],[1,4]])\n",
    "B = Matrix([[1,2,0],[0,1,2]])\n",
    "\n",
    "A, B"
   ]
  },
  {
   "cell_type": "code",
   "execution_count": 18,
   "metadata": {},
   "outputs": [
    {
     "data": {
      "image/png": "[encoded data removed]",
      "text/latex": [
       "$\\displaystyle \\left[\\begin{matrix}2 & 1\\\\5 & 6\\\\2 & 8\\end{matrix}\\right]$"
      ],
      "text/plain": [
       "⎡2  1⎤\n",
       "⎢    ⎥\n",
       "⎢5  6⎥\n",
       "⎢    ⎥\n",
       "⎣2  8⎦"
      ]
     },
     "execution_count": 18,
     "metadata": {},
     "output_type": "execute_result"
    }
   ],
   "source": [
    "B.T * A.T"
   ]
  },
  {
   "cell_type": "code",
   "execution_count": 20,
   "metadata": {},
   "outputs": [
    {
     "data": {
      "image/png": "[encoded data removed]",
      "text/latex": [
       "$\\displaystyle 2$"
      ],
      "text/plain": [
       "2"
      ]
     },
     "execution_count": 20,
     "metadata": {},
     "output_type": "execute_result"
    }
   ],
   "source": [
    "shape(A)[0]"
   ]
  },
  {
   "cell_type": "code",
   "execution_count": 24,
   "metadata": {},
   "outputs": [
    {
     "data": {
      "image/png": "[encoded data removed]",
      "text/latex": [
       "$\\displaystyle \\left( \\left[\\begin{matrix}2 & 1\\\\1 & 4\\end{matrix}\\right], \\  \\left[\\begin{matrix}2 & 1\\\\1 & 4\\end{matrix}\\right]\\right)$"
      ],
      "text/plain": [
       "⎛⎡2  1⎤  ⎡2  1⎤⎞\n",
       "⎜⎢    ⎥, ⎢    ⎥⎟\n",
       "⎝⎣1  4⎦  ⎣1  4⎦⎠"
      ]
     },
     "execution_count": 24,
     "metadata": {},
     "output_type": "execute_result"
    }
   ],
   "source": [
    "A, A * eye(shape(A)[0])"
   ]
  },
  {
   "cell_type": "code",
   "execution_count": 32,
   "metadata": {},
   "outputs": [
    {
     "data": {
      "image/png": "[encoded data removed]",
      "text/latex": [
       "$\\displaystyle \\left( \\left( \\left[\\begin{matrix}1 & 0 & 0 & - \\frac{5}{3} & \\frac{2}{3} & - \\frac{1}{6}\\\\0 & 1 & 0 & \\frac{4}{3} & - \\frac{1}{3} & - \\frac{1}{6}\\\\0 & 0 & 1 & 0 & 0 & \\frac{1}{2}\\end{matrix}\\right], \\  \\left( 0, \\  1, \\  2\\right)\\right), \\  \\left( \\left[\\begin{matrix}1 & 0 & 0 & - \\frac{5}{3} & \\frac{2}{3} & - \\frac{1}{6}\\\\0 & 1 & 0 & \\frac{4}{3} & - \\frac{1}{3} & - \\frac{1}{6}\\\\0 & 0 & 1 & 0 & 0 & \\frac{1}{2}\\end{matrix}\\right], \\  \\left( 0, \\  1, \\  2\\right)\\right)\\right)$"
      ],
      "text/plain": [
       "⎛⎛⎡1  0  0  -5/3  2/3   -1/6⎤           ⎞  ⎛⎡1  0  0  -5/3  2/3   -1/6⎤       \n",
       "⎜⎜⎢                         ⎥           ⎟  ⎜⎢                         ⎥       \n",
       "⎜⎜⎢0  1  0  4/3   -1/3  -1/6⎥, (0, 1, 2)⎟, ⎜⎢0  1  0  4/3   -1/3  -1/6⎥, (0, 1\n",
       "⎜⎜⎢                         ⎥           ⎟  ⎜⎢                         ⎥       \n",
       "⎝⎝⎣0  0  1   0     0    1/2 ⎦           ⎠  ⎝⎣0  0  1   0     0    1/2 ⎦       \n",
       "\n",
       "    ⎞⎞\n",
       "    ⎟⎟\n",
       ", 2)⎟⎟\n",
       "    ⎟⎟\n",
       "    ⎠⎠"
      ]
     },
     "execution_count": 32,
     "metadata": {},
     "output_type": "execute_result"
    }
   ],
   "source": [
    "A=Matrix([[1,2,1],[4,5,3],[0,0,2]])\n",
    "Matrix.hstack(A, eye(shape(A)[0])).rref(), A.row_join(eye(shape(A)[0])).rref()"
   ]
  },
  {
   "cell_type": "code",
   "execution_count": 37,
   "metadata": {},
   "outputs": [
    {
     "data": {
      "image/png": "[encoded data removed]",
      "text/latex": [
       "$\\displaystyle \\left[\\begin{matrix}-4\\\\\\frac{9}{2}\\end{matrix}\\right]$"
      ],
      "text/plain": [
       "⎡-4 ⎤\n",
       "⎢   ⎥\n",
       "⎣9/2⎦"
      ]
     },
     "execution_count": 37,
     "metadata": {},
     "output_type": "execute_result"
    }
   ],
   "source": [
    "A=Matrix([[1,2],[3,4]])\n",
    "b = Matrix([5,6])\n",
    "A**-1 * b"
   ]
  },
  {
   "cell_type": "code",
   "execution_count": null,
   "metadata": {},
   "outputs": [],
   "source": []
  }
 ],
 "metadata": {
  "kernelspec": {
   "display_name": "base",
   "language": "python",
   "name": "python3"
  },
  "language_info": {
   "codemirror_mode": {
    "name": "ipython",
    "version": 3
   },
   "file_extension": ".py",
   "mimetype": "text/x-python",
   "name": "python",
   "nbconvert_exporter": "python",
   "pygments_lexer": "ipython3",
   "version": "3.11.4"
  }
 },
 "nbformat": 4,
 "nbformat_minor": 2
}
