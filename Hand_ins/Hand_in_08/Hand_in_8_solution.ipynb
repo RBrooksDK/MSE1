{
 "cells": [
  {
   "cell_type": "code",
   "execution_count": 2,
   "metadata": {},
   "outputs": [],
   "source": [
    "from sympy import *\n",
    "init_printing()"
   ]
  },
  {
   "cell_type": "markdown",
   "metadata": {},
   "source": [
    "#### Assignment 1"
   ]
  },
  {
   "cell_type": "code",
   "execution_count": 4,
   "metadata": {},
   "outputs": [
    {
     "data": {
      "image/png": "[encoded data removed]",
      "text/latex": [
       "$\\displaystyle \\left\\{ k : -2\\right\\}$"
      ],
      "text/plain": [
       "{k: -2}"
      ]
     },
     "execution_count": 4,
     "metadata": {},
     "output_type": "execute_result"
    }
   ],
   "source": [
    "# a)\n",
    "k = symbols('k')\n",
    "A = Matrix([[2,3],[-1,1]])\n",
    "B = Matrix([[1,9],[-3,k]])\n",
    "\n",
    "solve(A*B - B*A, k)"
   ]
  },
  {
   "cell_type": "code",
   "execution_count": null,
   "metadata": {},
   "outputs": [
    {
     "data": {
      "image/png": "[encoded data removed]",
      "text/latex": [
       "$\\displaystyle \\left[ 3\\right]$"
      ],
      "text/plain": [
       "[3]"
      ]
     },
     "execution_count": 7,
     "metadata": {},
     "output_type": "execute_result"
    }
   ],
   "source": [
    "# b\n",
    "B = Matrix([[1,-5,3],[3,-8,-5],[-1,2,k]])\n",
    "solve(B.echelon_form()[-1, -1], k)"
   ]
  },
  {
   "cell_type": "code",
   "execution_count": 11,
   "metadata": {},
   "outputs": [
    {
     "data": {
      "image/png": "[encoded data removed]",
      "text/latex": [
       "$\\displaystyle \\left[ -4, \\  0, \\  4\\right]$"
      ],
      "text/plain": [
       "[-4, 0, 4]"
      ]
     },
     "execution_count": 11,
     "metadata": {},
     "output_type": "execute_result"
    }
   ],
   "source": [
    "# c\n",
    "C = Matrix([[k**(2),2*k],[8,k]])\n",
    "solve(C.echelon_form()[-1, -1], k)"
   ]
  },
  {
   "cell_type": "markdown",
   "metadata": {},
   "source": [
    "#### Assignment 2"
   ]
  },
  {
   "cell_type": "code",
   "execution_count": 20,
   "metadata": {},
   "outputs": [
    {
     "data": {
      "image/png": "[encoded data removed]",
      "text/latex": [
       "$\\displaystyle \\left[\\begin{matrix}-3 & 1 & 5\\\\-2 & 1 & 3\\\\1 & 0 & -1\\end{matrix}\\right]$"
      ],
      "text/plain": [
       "⎡-3  1  5 ⎤\n",
       "⎢         ⎥\n",
       "⎢-2  1  3 ⎥\n",
       "⎢         ⎥\n",
       "⎣1   0  -1⎦"
      ]
     },
     "execution_count": 20,
     "metadata": {},
     "output_type": "execute_result"
    }
   ],
   "source": [
    "# a\n",
    "A = Matrix([[1,-1,2],[-1,2,1],[1,-1,1]])\n",
    "\n",
    "Ainv = Matrix.hstack(A, eye(A.shape[0])).rref()[0][:, A.shape[0]:]\n",
    "Ainv"
   ]
  },
  {
   "cell_type": "code",
   "execution_count": 21,
   "metadata": {},
   "outputs": [
    {
     "data": {
      "image/png": "[encoded data removed]",
      "text/latex": [
       "$\\displaystyle \\left[\\begin{matrix}1\\\\2\\\\3\\end{matrix}\\right]$"
      ],
      "text/plain": [
       "⎡1⎤\n",
       "⎢ ⎥\n",
       "⎢2⎥\n",
       "⎢ ⎥\n",
       "⎣3⎦"
      ]
     },
     "execution_count": 21,
     "metadata": {},
     "output_type": "execute_result"
    }
   ],
   "source": [
    "# b\n",
    "b = Matrix([5, 6, 2])\n",
    "Ainv*b"
   ]
  },
  {
   "cell_type": "markdown",
   "metadata": {},
   "source": [
    "#### Assignment 3"
   ]
  },
  {
   "cell_type": "code",
   "execution_count": 26,
   "metadata": {},
   "outputs": [
    {
     "data": {
      "image/png": "[encoded data removed]",
      "text/latex": [
       "$\\displaystyle \\left[\\begin{matrix}1 & 0 & 0 & \\frac{16}{5} - \\frac{a}{5}\\\\0 & 1 & 0 & \\frac{3 a}{5} - \\frac{18}{5}\\\\0 & 0 & 1 & 5 - a\\end{matrix}\\right]$"
      ],
      "text/plain": [
       "⎡          16   a ⎤\n",
       "⎢1  0  0   ── - ─ ⎥\n",
       "⎢          5    5 ⎥\n",
       "⎢                 ⎥\n",
       "⎢         3⋅a   18⎥\n",
       "⎢0  1  0  ─── - ──⎥\n",
       "⎢          5    5 ⎥\n",
       "⎢                 ⎥\n",
       "⎣0  0  1   5 - a  ⎦"
      ]
     },
     "execution_count": 26,
     "metadata": {},
     "output_type": "execute_result"
    }
   ],
   "source": [
    "a = symbols('a')\n",
    "A = Matrix([[1, 2, 1, 1], [-2, 1, 1, -5], [2, -1, -2, a]])\n",
    "A.rref()[0]"
   ]
  },
  {
   "cell_type": "markdown",
   "metadata": {},
   "source": [
    "#### Assignment 4"
   ]
  },
  {
   "cell_type": "code",
   "execution_count": null,
   "metadata": {},
   "outputs": [
    {
     "data": {
      "image/png": "[encoded data removed]",
      "text/latex": [
       "$\\displaystyle \\left[\\begin{matrix}1 & 0 & - \\frac{3}{2} & 0\\\\0 & 1 & \\frac{1}{2} & 0\\\\0 & 0 & 0 & 1\\end{matrix}\\right]$"
      ],
      "text/plain": [
       "⎡1  0  -3/2  0⎤\n",
       "⎢             ⎥\n",
       "⎢0  1  1/2   0⎥\n",
       "⎢             ⎥\n",
       "⎣0  0   0    1⎦"
      ]
     },
     "execution_count": 30,
     "metadata": {},
     "output_type": "execute_result"
    }
   ],
   "source": [
    "# a\n",
    "A = Matrix([[4,8,-2],[-6,2,10],[-2,6,6]])\n",
    "b = Matrix([2, 18, 15])\n",
    "Matrix.hstack(A, b).rref()[0] # inconsistent"
   ]
  },
  {
   "cell_type": "code",
   "execution_count": null,
   "metadata": {},
   "outputs": [],
   "source": [
    "# b\n",
    "# Dependent: v3 = -3/2 v1 + 1/2 v2 so 3v1-v2+2v3 = 0"
   ]
  },
  {
   "cell_type": "markdown",
   "metadata": {},
   "source": [
    "#### Assignment 5"
   ]
  },
  {
   "cell_type": "code",
   "execution_count": 33,
   "metadata": {},
   "outputs": [
    {
     "data": {
      "image/png": "[encoded data removed]",
      "text/latex": [
       "$\\displaystyle 1$"
      ],
      "text/plain": [
       "1"
      ]
     },
     "execution_count": 33,
     "metadata": {},
     "output_type": "execute_result"
    }
   ],
   "source": [
    "A=Matrix([[1,1,0],[0,1,1],[0,0,1]])\n",
    "B=Matrix([[2,0,0],[1,1,2],[2,0,1]])\n",
    "C=Matrix([[1,1,0],[0,1,0],[0,1,2]])\n",
    "\n",
    "# XA = XB + C =>X(A-B) = C => X = C(A-B)^-1\n",
    "X = C*(A-B).inv()\n",
    "X.det()"
   ]
  },
  {
   "cell_type": "markdown",
   "metadata": {},
   "source": [
    "#### Assignment 6"
   ]
  },
  {
   "cell_type": "code",
   "execution_count": 35,
   "metadata": {},
   "outputs": [
    {
     "data": {
      "image/png": "[encoded data removed]",
      "text/latex": [
       "$\\displaystyle \\left\\{ p : -7, \\  q : 2\\right\\}$"
      ],
      "text/plain": [
       "{p: -7, q: 2}"
      ]
     },
     "execution_count": 35,
     "metadata": {},
     "output_type": "execute_result"
    }
   ],
   "source": [
    "# a\n",
    "p, q, = symbols('p q')\n",
    "A = Matrix([[1, 3], [-2, -8]])\n",
    "solve(A**2 - p*A - q*eye(2), p, q)"
   ]
  },
  {
   "cell_type": "code",
   "execution_count": 36,
   "metadata": {},
   "outputs": [
    {
     "data": {
      "image/png": "[encoded data removed]",
      "text/latex": [
       "$\\displaystyle \\left[ - \\frac{7}{2} + \\frac{\\sqrt{57}}{2}, \\  - \\frac{\\sqrt{57}}{2} - \\frac{7}{2}\\right]$"
      ],
      "text/plain": [
       "⎡  7   √57    √57   7⎤\n",
       "⎢- ─ + ───, - ─── - ─⎥\n",
       "⎣  2    2      2    2⎦"
      ]
     },
     "execution_count": 36,
     "metadata": {},
     "output_type": "execute_result"
    }
   ],
   "source": [
    "# b)\n",
    "t = symbols('t')\n",
    "B = A-t*eye(2)\n",
    "solve(B.echelon_form()[1,1], t)"
   ]
  },
  {
   "cell_type": "markdown",
   "metadata": {},
   "source": [
    "#### Assignment 7"
   ]
  },
  {
   "cell_type": "markdown",
   "metadata": {},
   "source": [
    "Given the three matrices\n",
    "\n",
    "$$\n",
    "A=\\left[\\begin{array}{cc}\n",
    "-1 & 2 \\\\\n",
    "1 & 1\n",
    "\\end{array}\\right], \\quad B=\\left[\\begin{array}{ll}\n",
    "1 & 2 \\\\\n",
    "0 & 1\n",
    "\\end{array}\\right], \\quad C=\\left[\\begin{array}{ll}\n",
    "2 & 2 \\\\\n",
    "3 & 1\n",
    "\\end{array}\\right]\n",
    "$$\n",
    "\n",
    "solve the following system of matrix equations (i.e. find matrices $X$ and $Y$ )\n",
    "\n",
    "$$\n",
    "\\left\\{\\begin{array}{l}\n",
    "A X+C Y=B A C \\\\\n",
    "C X-B Y=C A B\n",
    "\\end{array}\\right.\n",
    "$$\n"
   ]
  },
  {
   "cell_type": "code",
   "execution_count": null,
   "metadata": {},
   "outputs": [
    {
     "data": {
      "image/png": "[encoded data removed]",
      "text/latex": [
       "$\\displaystyle \\left( - \\frac{36}{13}, \\  0\\right)$"
      ],
      "text/plain": [
       "⎛-36    ⎞\n",
       "⎜────, 0⎟\n",
       "⎝ 13    ⎠"
      ]
     },
     "execution_count": 44,
     "metadata": {},
     "output_type": "execute_result"
    }
   ],
   "source": [
    "# There are many ways to solve this problem. Here is one way to do it which is very \"mathematical\".\n",
    "\n",
    "# Define the matrices A, B, and C\n",
    "A = Matrix([[-1, 2], [1, 1]])\n",
    "B = Matrix([[1, 2], [0, 1]])\n",
    "C = Matrix([[2, 2], [3, 1]])\n",
    "\n",
    "# Simply the RHS\n",
    "Q = B*A*C\n",
    "R = C*A*B\n",
    "\n",
    "# Isolate X in each equation and solve for Y\n",
    "Y = (A.inv()*Q - C.inv()*R)*(A.inv()*C + C.inv()*B).inv()\n",
    "\n",
    "# Use Y to solve for X\n",
    "X = A.inv()*(Q-C*Y)\n",
    "X.det(), Y.det()"
   ]
  },
  {
   "cell_type": "code",
   "execution_count": null,
   "metadata": {},
   "outputs": [
    {
     "data": {
      "image/png": "[encoded data removed]",
      "text/latex": [
       "$\\displaystyle \\left( - \\frac{36}{13}, \\  0\\right)$"
      ],
      "text/plain": [
       "⎛-36    ⎞\n",
       "⎜────, 0⎟\n",
       "⎝ 13    ⎠"
      ]
     },
     "execution_count": 47,
     "metadata": {},
     "output_type": "execute_result"
    }
   ],
   "source": [
    "# Here is another way to solve this problem which is more \"programmatic\"\n",
    "\n",
    "# Define unknown matrices X and Y with symbolic entries\n",
    "x11, x12, x21, x22 = symbols('x11 x12 x21 x22')\n",
    "y11, y12, y21, y22 = symbols('y11 y12 y21 y22')\n",
    "\n",
    "X =Matrix([[x11, x12],\n",
    "               [x21, x22]])\n",
    "\n",
    "Y = Matrix([[y11, y12],\n",
    "               [y21, y22]])\n",
    "# Compute BA and then BAC\n",
    "BA = B * A\n",
    "BAC = BA * C\n",
    "\n",
    "# Compute AB and then CAB\n",
    "AB = A * B\n",
    "CAB = C * AB\n",
    "\n",
    "# Equation 1: A*X + C*Y = BAC\n",
    "eq1 = A * X + C * Y - BAC\n",
    "\n",
    "# Equation 2: C*X - B*Y = CAB\n",
    "eq2 = C * X - B * Y - CAB\n",
    "\n",
    "# Flatten the equations into lists\n",
    "equations = []\n",
    "variables = [x11, x12, x21, x22, y11, y12, y21, y22]\n",
    "\n",
    "# For Equation 1\n",
    "for i in range(2):\n",
    "    for j in range(2):\n",
    "        equations.append(eq1[i, j])\n",
    "\n",
    "# For Equation 2\n",
    "for i in range(2):\n",
    "    for j in range(2):\n",
    "        equations.append(eq2[i, j])\n",
    "\n",
    "# Solve the system of equations\n",
    "solution = solve(equations, variables)\n",
    "\n",
    "# Extract solutions\n",
    "X_solution = X.subs(solution)\n",
    "Y_solution = Y.subs(solution)\n",
    "\n",
    "X_solution.det(), Y_solution.det()"
   ]
  }
 ],
 "metadata": {
  "kernelspec": {
   "display_name": "base",
   "language": "python",
   "name": "python3"
  },
  "language_info": {
   "codemirror_mode": {
    "name": "ipython",
    "version": 3
   },
   "file_extension": ".py",
   "mimetype": "text/x-python",
   "name": "python",
   "nbconvert_exporter": "python",
   "pygments_lexer": "ipython3",
   "version": "3.11.4"
  }
 },
 "nbformat": 4,
 "nbformat_minor": 2
}
