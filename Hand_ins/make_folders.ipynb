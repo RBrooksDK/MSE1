{
 "cells": [
  {
   "cell_type": "code",
   "execution_count": 1,
   "metadata": {},
   "outputs": [
    {
     "name": "stdout",
     "output_type": "stream",
     "text": [
      "Created folder: Hand_in_01\n",
      "Created folder: Hand_in_02\n",
      "Created folder: Hand_in_03\n",
      "Created folder: Hand_in_04\n",
      "Created folder: Hand_in_05\n",
      "Created folder: Hand_in_06\n",
      "Created folder: Hand_in_07\n",
      "Created folder: Hand_in_08\n",
      "Created folder: Hand_in_09\n",
      "Created folder: Hand_in_10\n"
     ]
    }
   ],
   "source": [
    "import os\n",
    "\n",
    "# Define the base name for the folders\n",
    "base_folder_name = \"Hand_in_\"\n",
    "\n",
    "# Create 10 folders named Hand_in_01 to Hand_in_10\n",
    "for i in range(1, 11):\n",
    "    folder_name = f\"{base_folder_name}{i:02d}\"  # Format the number with leading zeros\n",
    "    os.makedirs(folder_name, exist_ok=True)\n",
    "    print(f\"Created folder: {folder_name}\")\n"
   ]
  }
 ],
 "metadata": {
  "kernelspec": {
   "display_name": "base",
   "language": "python",
   "name": "python3"
  },
  "language_info": {
   "codemirror_mode": {
    "name": "ipython",
    "version": 3
   },
   "file_extension": ".py",
   "mimetype": "text/x-python",
   "name": "python",
   "nbconvert_exporter": "python",
   "pygments_lexer": "ipython3",
   "version": "3.11.4"
  }
 },
 "nbformat": 4,
 "nbformat_minor": 2
}
