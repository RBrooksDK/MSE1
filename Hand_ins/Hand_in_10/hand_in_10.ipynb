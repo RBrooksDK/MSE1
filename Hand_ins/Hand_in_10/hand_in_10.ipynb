{
 "cells": [
  {
   "cell_type": "markdown",
   "metadata": {},
   "source": [
    "# Hand in 10 - Part 2"
   ]
  },
  {
   "cell_type": "code",
   "execution_count": 13,
   "metadata": {},
   "outputs": [],
   "source": [
    "from sympy import *\n",
    "init_printing()\n",
    "from IPython.display import display, Latex"
   ]
  },
  {
   "cell_type": "code",
   "execution_count": 2,
   "metadata": {},
   "outputs": [
    {
     "data": {
      "image/png": "[encoded data removed]",
      "text/latex": [
       "$\\displaystyle \\left[\\begin{matrix}0 & 1\\\\1 & -3\\\\0 & -2\\end{matrix}\\right]$"
      ],
      "text/plain": [
       "⎡0  1 ⎤\n",
       "⎢     ⎥\n",
       "⎢1  -3⎥\n",
       "⎢     ⎥\n",
       "⎣0  -2⎦"
      ]
     },
     "execution_count": 2,
     "metadata": {},
     "output_type": "execute_result"
    }
   ],
   "source": [
    "# Item 1.a\n",
    "\n",
    "A = Matrix([[1,2,-4],[3,1,0],[2,3,-3]])\n",
    "B = Matrix([[2,3],[1,0],[3,-1]])\n",
    "X = A**-1 * B\n",
    "X"
   ]
  },
  {
   "cell_type": "code",
   "execution_count": null,
   "metadata": {},
   "outputs": [
    {
     "data": {
      "image/png": "[encoded data removed]",
      "text/latex": [
       "$\\displaystyle \\left( \\left[\\begin{matrix}1 & 2 & -4\\\\3 & k & 0\\\\2 & 3 & -3\\end{matrix}\\right], \\  \\left[\\begin{matrix}1 & 2 & -4\\\\0 & -1 & 5\\\\0 & 0 & 18 - 5 k\\end{matrix}\\right], \\  \\left[ \\frac{18}{5}\\right]\\right)$"
      ],
      "text/plain": [
       "⎛⎡1  2  -4⎤  ⎡1  2      -4   ⎤        ⎞\n",
       "⎜⎢        ⎥  ⎢               ⎥        ⎟\n",
       "⎜⎢3  k  0 ⎥, ⎢0  -1     5    ⎥, [18/5]⎟\n",
       "⎜⎢        ⎥  ⎢               ⎥        ⎟\n",
       "⎝⎣2  3  -3⎦  ⎣0  0   18 - 5⋅k⎦        ⎠"
      ]
     },
     "execution_count": 8,
     "metadata": {},
     "output_type": "execute_result"
    }
   ],
   "source": [
    "# Item 1.b\n",
    "k = symbols('k')\n",
    "A = Matrix([[1,2,-4],[3,k,0],[2,3,-3]])\n",
    "A, A.echelon_form(), solve(A.echelon_form()[-1], k)"
   ]
  },
  {
   "cell_type": "code",
   "execution_count": 9,
   "metadata": {},
   "outputs": [
    {
     "data": {
      "image/png": "[encoded data removed]",
      "text/latex": [
       "$\\displaystyle \\left[\\begin{matrix}1 & 0 & 8 & 6 & 0\\\\2 & 3 & -1 & 4 & 0\\\\4 & 5 & 0 & 7 & 0\\end{matrix}\\right]$"
      ],
      "text/plain": [
       "⎡1  0  8   6  0⎤\n",
       "⎢              ⎥\n",
       "⎢2  3  -1  4  0⎥\n",
       "⎢              ⎥\n",
       "⎣4  5  0   7  0⎦"
      ]
     },
     "execution_count": 9,
     "metadata": {},
     "output_type": "execute_result"
    }
   ],
   "source": [
    "# Item 2.a\n",
    "A = Matrix([[1,0,8,6,0],[2,3,-1,4,0],[4,5,0,7,0]])\n",
    "A"
   ]
  },
  {
   "cell_type": "code",
   "execution_count": 19,
   "metadata": {},
   "outputs": [
    {
     "data": {
      "image/png": "[encoded data removed]",
      "text/latex": [
       "$\\displaystyle \\left[\\begin{matrix}1 & 0 & 0 & -2 & 0\\\\0 & 1 & 0 & 3 & 0\\\\0 & 0 & 1 & 1 & 0\\end{matrix}\\right]$"
      ],
      "text/plain": [
       "⎡1  0  0  -2  0⎤\n",
       "⎢              ⎥\n",
       "⎢0  1  0  3   0⎥\n",
       "⎢              ⎥\n",
       "⎣0  0  1  1   0⎦"
      ]
     },
     "execution_count": 19,
     "metadata": {},
     "output_type": "execute_result"
    }
   ],
   "source": [
    "# Item 2.b\n",
    "A.rref()[0]"
   ]
  },
  {
   "cell_type": "code",
   "execution_count": 20,
   "metadata": {},
   "outputs": [
    {
     "data": {
      "text/latex": [
       "$$\\left[\\begin{matrix}x_{1}\\\\x_{2}\\\\x_{3}\\\\x_{4}\\end{matrix}\\right] = x_4\\left[\\begin{matrix}2\\\\-3\\\\-1\\\\1\\end{matrix}\\right]$$"
      ],
      "text/plain": [
       "<IPython.core.display.Latex object>"
      ]
     },
     "metadata": {},
     "output_type": "display_data"
    }
   ],
   "source": [
    "# Item 2.b cont\n",
    "x_1, x_2, x_3, x_4 = symbols('x_1 x_2 x_3 x_4')\n",
    "var = Matrix([x_1, x_2, x_3, x_4])\n",
    "v = Matrix([2, -3, -1,1])\n",
    "display(Latex(\"$${} = x_4{}$$\".format(latex(var), latex(v))))"
   ]
  },
  {
   "cell_type": "code",
   "execution_count": null,
   "metadata": {},
   "outputs": [],
   "source": [
    "# Item 3\n",
    "# See other solution"
   ]
  },
  {
   "cell_type": "code",
   "execution_count": 24,
   "metadata": {},
   "outputs": [
    {
     "data": {
      "image/png": "[encoded data removed]",
      "text/latex": [
       "$\\displaystyle 188474$"
      ],
      "text/plain": [
       "188474"
      ]
     },
     "execution_count": 24,
     "metadata": {},
     "output_type": "execute_result"
    }
   ],
   "source": [
    "# Item 4\n",
    "binomial (52, 4) - binomial(39, 4)"
   ]
  },
  {
   "cell_type": "code",
   "execution_count": 26,
   "metadata": {},
   "outputs": [
    {
     "data": {
      "image/png": "[encoded data removed]",
      "text/latex": [
       "$\\displaystyle 0.71$"
      ],
      "text/plain": [
       "0.71"
      ]
     },
     "execution_count": 26,
     "metadata": {},
     "output_type": "execute_result"
    }
   ],
   "source": [
    "# Item 5\n",
    "# Percentages\n",
    "p_doctor = 0.8          # 80% go to the doctor\n",
    "p_no_issues_doctor = 0.35  # 35% of those have no health issues\n",
    "p_no_issues_no_doctor = 0.05  # 5% of those not going to the doctor have no health issues\n",
    "\n",
    "# Probability of no health issues\n",
    "p_no_issues = p_doctor * p_no_issues_doctor + (1 - p_doctor) * p_no_issues_no_doctor\n",
    "\n",
    "# Probability of having health issues\n",
    "p_health_issues = 1 - p_no_issues\n",
    "\n",
    "p_health_issues\n",
    "\n"
   ]
  },
  {
   "cell_type": "code",
   "execution_count": 30,
   "metadata": {},
   "outputs": [
    {
     "data": {
      "image/png": "[encoded data removed]",
      "text/latex": [
       "$\\displaystyle \\frac{1}{32}$"
      ],
      "text/plain": [
       "1/32"
      ]
     },
     "execution_count": 30,
     "metadata": {},
     "output_type": "execute_result"
    }
   ],
   "source": [
    "# Item 6a\n",
    "Rational(1/2**5)"
   ]
  },
  {
   "cell_type": "code",
   "execution_count": 31,
   "metadata": {},
   "outputs": [
    {
     "data": {
      "image/png": "[encoded data removed]",
      "text/latex": [
       "$\\displaystyle \\frac{1}{16}$"
      ],
      "text/plain": [
       "1/16"
      ]
     },
     "execution_count": 31,
     "metadata": {},
     "output_type": "execute_result"
    }
   ],
   "source": [
    "# Item 6a\n",
    "2*Rational(1/2**5)"
   ]
  },
  {
   "cell_type": "code",
   "execution_count": 34,
   "metadata": {},
   "outputs": [
    {
     "data": {
      "image/png": "[encoded data removed]",
      "text/latex": [
       "$\\displaystyle 0.97$"
      ],
      "text/plain": [
       "0.97"
      ]
     },
     "execution_count": 34,
     "metadata": {},
     "output_type": "execute_result"
    }
   ],
   "source": [
    "# Item 7\n",
    "D_given_T = 156/161\n",
    "round(D_given_T, 2)"
   ]
  },
  {
   "cell_type": "code",
   "execution_count": null,
   "metadata": {},
   "outputs": [],
   "source": [
    "# Item 8\n",
    "# See other solution"
   ]
  },
  {
   "cell_type": "code",
   "execution_count": 36,
   "metadata": {},
   "outputs": [
    {
     "data": {
      "image/png": "[encoded data removed]",
      "text/latex": [
       "$\\displaystyle 6720$"
      ],
      "text/plain": [
       "6720"
      ]
     },
     "execution_count": 36,
     "metadata": {},
     "output_type": "execute_result"
    }
   ],
   "source": [
    "# Item 9\n",
    "factorial(8)/factorial(3)"
   ]
  },
  {
   "cell_type": "code",
   "execution_count": 40,
   "metadata": {},
   "outputs": [
    {
     "data": {
      "image/png": "[encoded data removed]",
      "text/latex": [
       "$\\displaystyle 0.5263$"
      ],
      "text/plain": [
       "0.5263"
      ]
     },
     "execution_count": 40,
     "metadata": {},
     "output_type": "execute_result"
    }
   ],
   "source": [
    "# Item 10a\n",
    "# See other solution\n",
    "\n",
    "# Item 10b\n",
    "\n",
    "Def_given_sup1 = 40/800\n",
    "sup1 = 800/2000\n",
    "Def = (40+36)/2000\n",
    "\n",
    "sup1_given_Def = Def_given_sup1 * sup1 / Def\n",
    "round(sup1_given_Def, 4)\n"
   ]
  },
  {
   "cell_type": "code",
   "execution_count": 41,
   "metadata": {},
   "outputs": [
    {
     "data": {
      "image/png": "[encoded data removed]",
      "text/latex": [
       "$\\displaystyle \\left( 0.4278, \\  0.5348, \\  0.0374\\right)$"
      ],
      "text/plain": [
       "(0.4278, 0.5348, 0.0374)"
      ]
     },
     "execution_count": 41,
     "metadata": {},
     "output_type": "execute_result"
    }
   ],
   "source": [
    "# Item 11\n",
    "A = 0.1\n",
    "B = 0.2\n",
    "W = 1 - A - B\n",
    "\n",
    "P_given_A = 0.8\n",
    "P_given_B = 0.5\n",
    "P_given_W = 0.01\n",
    "\n",
    "A_given_P = P_given_A * A / (P_given_A * A + P_given_B * B + P_given_W * W)\n",
    "B_given_P = P_given_B * B / (P_given_A * A + P_given_B * B + P_given_W * W)\n",
    "W_given_P = P_given_W * W / (P_given_A * A + P_given_B * B + P_given_W * W)\n",
    "\n",
    "round(A_given_P, 4), round(B_given_P, 4), round(W_given_P, 4)"
   ]
  },
  {
   "cell_type": "code",
   "execution_count": 23,
   "metadata": {},
   "outputs": [
    {
     "data": {
      "image/png": "[encoded data removed]",
      "text/latex": [
       "$\\displaystyle \\left[\\begin{matrix}1 & 0 & \\frac{1}{2} & 1\\\\0 & 1 & \\frac{3}{4} & \\frac{5}{2}\\end{matrix}\\right]$"
      ],
      "text/plain": [
       "⎡1  0  1/2   1 ⎤\n",
       "⎢              ⎥\n",
       "⎣0  1  3/4  5/2⎦"
      ]
     },
     "execution_count": 23,
     "metadata": {},
     "output_type": "execute_result"
    }
   ],
   "source": [
    "# Item 12\n",
    "A = Matrix([[-1,2,1,4],[1,2,2,6]])\n",
    "A.rref()[0]"
   ]
  },
  {
   "cell_type": "code",
   "execution_count": 44,
   "metadata": {},
   "outputs": [
    {
     "data": {
      "text/latex": [
       "$$\\left[\\begin{matrix}x_{1}\\\\x_{2}\\\\x_{3}\\\\x_{4}\\end{matrix}\\right] = x_3\\left[\\begin{matrix}- \\frac{1}{2}\\\\- \\frac{3}{4}\\\\1\\\\0\\end{matrix}\\right] + x_4\\left[\\begin{matrix}-1\\\\- \\frac{5}{2}\\\\0\\\\1\\end{matrix}\\right]$$"
      ],
      "text/plain": [
       "<IPython.core.display.Latex object>"
      ]
     },
     "metadata": {},
     "output_type": "display_data"
    }
   ],
   "source": [
    "# Item 12 cont\n",
    "x_1, x_2, x_3, x_4 = symbols('x_1 x_2 x_3 x_4')\n",
    "var = Matrix([x_1, x_2, x_3, x_4])\n",
    "v1 = Matrix([Rational(-1/2), Rational(-3/4), 1,0])\n",
    "v2 = Matrix([-1, Rational(-5/2), 0, 1])\n",
    "display(Latex(\"$${} = x_3{} + x_4{}$$\".format(latex(var), latex(v1), latex(v2))))"
   ]
  },
  {
   "cell_type": "code",
   "execution_count": null,
   "metadata": {},
   "outputs": [],
   "source": [
    "# Item 13\n",
    "# See other solution"
   ]
  }
 ],
 "metadata": {
  "kernelspec": {
   "display_name": "base",
   "language": "python",
   "name": "python3"
  },
  "language_info": {
   "codemirror_mode": {
    "name": "ipython",
    "version": 3
   },
   "file_extension": ".py",
   "mimetype": "text/x-python",
   "name": "python",
   "nbconvert_exporter": "python",
   "pygments_lexer": "ipython3",
   "version": "3.11.4"
  }
 },
 "nbformat": 4,
 "nbformat_minor": 2
}
