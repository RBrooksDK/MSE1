{
 "cells": [
  {
   "cell_type": "markdown",
   "metadata": {},
   "source": [
    "### Assignment 1"
   ]
  },
  {
   "cell_type": "code",
   "execution_count": 11,
   "metadata": {},
   "outputs": [
    {
     "data": {
      "text/plain": [
       "0.5973456859477232"
      ]
     },
     "execution_count": 11,
     "metadata": {},
     "output_type": "execute_result"
    }
   ],
   "source": [
    "from math import comb\n",
    "\n",
    "result = 1 - (5**12 + comb(12, 1) * 5**11) / 6**12\n",
    "result2 = 1 - ((5**18 + comb(18, 1) * 5**17 + comb(18, 2) * 5**16)) / 6**18\n",
    "result2"
   ]
  },
  {
   "cell_type": "code",
   "execution_count": 12,
   "metadata": {
    "vscode": {
     "languageId": "markdown"
    }
   },
   "outputs": [
    {
     "data": {
      "text/plain": [
       "(0.6651, 0.6187, 0.5973)"
      ]
     },
     "execution_count": 12,
     "metadata": {},
     "output_type": "execute_result"
    }
   ],
   "source": [
    "from math import comb\n",
    "\n",
    "# Probability of rolling a 6 on a fair die\n",
    "p = 1/6\n",
    "\n",
    "# (A) Probability of at least one 6 when 6 dice are rolled\n",
    "P_A = 1 - comb(6, 0) * (p**0) * ((1-p)**6)\n",
    "P_A = round(P_A, 4)\n",
    "\n",
    "# (B) Probability of at least two 6's when 12 dice are rolled\n",
    "P_B = 1 - (comb(12, 0) * (p**0) * ((1-p)**12) + comb(12, 1) * (p**1) * ((1-p)**11))\n",
    "P_B = round(P_B, 4)\n",
    "\n",
    "# (C) Probability of at least three 6's when 18 dice are rolled\n",
    "P_C = 1 - (comb(18, 0) * (p**0) * ((1-p)**18) + comb(18, 1) * (p**1) * ((1-p)**17) + comb(18, 2) * (p**2) * ((1-p)**16))\n",
    "P_C = round(P_C, 4)\n",
    "\n",
    "P_A, P_B, P_C"
   ]
  },
  {
   "cell_type": "markdown",
   "metadata": {},
   "source": [
    "### Assignment 2"
   ]
  },
  {
   "cell_type": "code",
   "execution_count": 14,
   "metadata": {},
   "outputs": [
    {
     "data": {
      "text/plain": [
       "(0.2376, 0.078)"
      ]
     },
     "execution_count": 14,
     "metadata": {},
     "output_type": "execute_result"
    }
   ],
   "source": [
    "# Given probabilities\n",
    "P_mechanical_defect = 0.88\n",
    "P_loose_keys_given_mechanical_defect = 0.27\n",
    "\n",
    "P_electrical_connect_defect = 0.12\n",
    "P_improper_connections_given_electrical_connect_defect = 0.13\n",
    "P_poorly_welded_wires_given_electrical_connect_defect = 0.52\n",
    "\n",
    "# (a) Probability that a failure is due to loose keys\n",
    "P_loose_keys = P_mechanical_defect * P_loose_keys_given_mechanical_defect\n",
    "P_loose_keys = round(P_loose_keys, 10)\n",
    "\n",
    "# (b) Probability that a failure is due to improperly connected or poorly welded wires\n",
    "P_improperly_connected_or_poorly_welded_wires = P_electrical_connect_defect * (\n",
    "    P_improper_connections_given_electrical_connect_defect + P_poorly_welded_wires_given_electrical_connect_defect\n",
    ")\n",
    "P_improperly_connected_or_poorly_welded_wires = round(P_improperly_connected_or_poorly_welded_wires, 10)\n",
    "\n",
    "P_loose_keys, P_improperly_connected_or_poorly_welded_wires"
   ]
  },
  {
   "cell_type": "markdown",
   "metadata": {},
   "source": [
    "### Assignment 3"
   ]
  },
  {
   "cell_type": "code",
   "execution_count": 15,
   "metadata": {},
   "outputs": [
    {
     "data": {
      "text/plain": [
       "(0.32, 0.84375)"
      ]
     },
     "execution_count": 15,
     "metadata": {},
     "output_type": "execute_result"
    }
   ],
   "source": [
    "# Given probabilities\n",
    "P_B_given_A = 0.3\n",
    "P_A = 0.9\n",
    "P_B_given_Ac = 0.5\n",
    "P_Ac = 1 - P_A\n",
    "\n",
    "# (a) Total probability for B\n",
    "P_B = P_B_given_A * P_A + P_B_given_Ac * P_Ac\n",
    "P_B = round(P_B, 10)\n",
    "\n",
    "# (b) Probability for A given B\n",
    "P_A_given_B = (P_B_given_A * P_A) / P_B\n",
    "P_A_given_B = round(P_A_given_B, 10)\n",
    "\n",
    "P_B, P_A_given_B"
   ]
  },
  {
   "cell_type": "markdown",
   "metadata": {},
   "source": [
    "### Assignment 4"
   ]
  },
  {
   "cell_type": "code",
   "execution_count": 16,
   "metadata": {},
   "outputs": [
    {
     "data": {
      "text/plain": [
       "0.2105263"
      ]
     },
     "execution_count": 16,
     "metadata": {},
     "output_type": "execute_result"
    }
   ],
   "source": [
    "# Given probabilities\n",
    "P_depart_on_time = 0.81\n",
    "P_arrive_on_time = 0.80\n",
    "P_depart_and_arrive_on_time = 0.76\n",
    "\n",
    "# Probability that the plane did not depart on time\n",
    "P_not_depart_on_time = 1 - P_depart_on_time\n",
    "\n",
    "# Probability that the plane arrives on time and did not depart on time\n",
    "P_arrive_on_time_and_not_depart_on_time = P_arrive_on_time - P_depart_and_arrive_on_time\n",
    "\n",
    "# Conditional probability that the plane arrives on time given that it did not depart on time\n",
    "P_arrive_on_time_given_not_depart_on_time = P_arrive_on_time_and_not_depart_on_time / P_not_depart_on_time\n",
    "P_arrive_on_time_given_not_depart_on_time = round(P_arrive_on_time_given_not_depart_on_time, 7)\n",
    "\n",
    "P_arrive_on_time_given_not_depart_on_time"
   ]
  },
  {
   "cell_type": "markdown",
   "metadata": {},
   "source": [
    "### Assignment 5"
   ]
  },
  {
   "cell_type": "code",
   "execution_count": 17,
   "metadata": {},
   "outputs": [
    {
     "data": {
      "text/plain": [
       "(0.024, 0.625)"
      ]
     },
     "execution_count": 17,
     "metadata": {},
     "output_type": "execute_result"
    }
   ],
   "source": [
    "# Given probabilities\n",
    "P_spam = 0.1\n",
    "P_not_spam = 1 - P_spam\n",
    "P_Dear_Friend_given_spam = 0.15\n",
    "P_Dear_Friend_given_not_spam = 0.01\n",
    "\n",
    "# (a) Total probability that an email starts with \"Dear Friend\"\n",
    "P_Dear_Friend = (P_Dear_Friend_given_spam * P_spam) + (P_Dear_Friend_given_not_spam * P_not_spam)\n",
    "P_Dear_Friend = round(P_Dear_Friend, 3)\n",
    "\n",
    "# (b) Probability that an email is spam given that it starts with \"Dear Friend\"\n",
    "P_spam_given_Dear_Friend = (P_Dear_Friend_given_spam * P_spam) / P_Dear_Friend\n",
    "P_spam_given_Dear_Friend = round(P_spam_given_Dear_Friend, 3)\n",
    "\n",
    "P_Dear_Friend, P_spam_given_Dear_Friend"
   ]
  },
  {
   "cell_type": "markdown",
   "metadata": {},
   "source": [
    "### Assignment 6"
   ]
  },
  {
   "cell_type": "code",
   "execution_count": 9,
   "metadata": {},
   "outputs": [
    {
     "data": {
      "text/html": [
       "<div>\n",
       "<style scoped>\n",
       "    .dataframe tbody tr th:only-of-type {\n",
       "        vertical-align: middle;\n",
       "    }\n",
       "\n",
       "    .dataframe tbody tr th {\n",
       "        vertical-align: top;\n",
       "    }\n",
       "\n",
       "    .dataframe thead th {\n",
       "        text-align: right;\n",
       "    }\n",
       "</style>\n",
       "<table border=\"1\" class=\"dataframe\">\n",
       "  <thead>\n",
       "    <tr style=\"text-align: right;\">\n",
       "      <th></th>\n",
       "      <th>Rural</th>\n",
       "      <th>Suburban</th>\n",
       "      <th>Urban</th>\n",
       "    </tr>\n",
       "  </thead>\n",
       "  <tbody>\n",
       "    <tr>\n",
       "      <th>Grades</th>\n",
       "      <td>57</td>\n",
       "      <td>87</td>\n",
       "      <td>103</td>\n",
       "    </tr>\n",
       "    <tr>\n",
       "      <th>Learning</th>\n",
       "      <td>50</td>\n",
       "      <td>42</td>\n",
       "      <td>49</td>\n",
       "    </tr>\n",
       "    <tr>\n",
       "      <th>Social</th>\n",
       "      <td>42</td>\n",
       "      <td>22</td>\n",
       "      <td>26</td>\n",
       "    </tr>\n",
       "  </tbody>\n",
       "</table>\n",
       "</div>"
      ],
      "text/plain": [
       "          Rural  Suburban  Urban\n",
       "Grades       57        87    103\n",
       "Learning     50        42     49\n",
       "Social       42        22     26"
      ]
     },
     "execution_count": 9,
     "metadata": {},
     "output_type": "execute_result"
    }
   ],
   "source": [
    "import pandas as pd\n",
    "\n",
    "# Create the contingency table\n",
    "data = {\n",
    "    'Rural': [57, 50, 42],\n",
    "    'Suburban': [87, 42, 22],\n",
    "    'Urban': [103, 49, 26]\n",
    "}\n",
    "index = ['Grades', 'Learning', 'Social']\n",
    "contingency_table = pd.DataFrame(data, index=index)\n",
    "contingency_table"
   ]
  },
  {
   "cell_type": "code",
   "execution_count": 10,
   "metadata": {
    "vscode": {
     "languageId": "markdown"
    }
   },
   "outputs": [
    {
     "data": {
      "text/plain": [
       "(0.046, 0.2443, 0.1456, False)"
      ]
     },
     "execution_count": 10,
     "metadata": {},
     "output_type": "execute_result"
    }
   ],
   "source": [
    "# Total number of students\n",
    "total_students = contingency_table.values.sum()\n",
    "\n",
    "# (b) Probability that a randomly chosen student was from a suburban area and thought having a good social life was most important\n",
    "P_suburban_and_social = contingency_table.loc['Social', 'Suburban'] / total_students\n",
    "P_suburban_and_social = round(P_suburban_and_social, 4)\n",
    "\n",
    "# (c) Probability that a randomly chosen student was from a suburban area, given the student thought having a good social life was most important\n",
    "P_social = contingency_table.loc['Social'].sum() / total_students\n",
    "P_suburban_given_social = P_suburban_and_social / P_social\n",
    "P_suburban_given_social = round(P_suburban_given_social, 4)\n",
    "\n",
    "# (d) Probability that a randomly chosen student thought having a good social life was most important, given the student was from a suburban area\n",
    "P_suburban = contingency_table['Suburban'].sum() / total_students\n",
    "P_social_given_suburban = P_suburban_and_social / P_suburban\n",
    "P_social_given_suburban = round(P_social_given_suburban, 4)\n",
    "\n",
    "# (e) Using conditional probability, determine whether 'Rural' and 'Grades' are independent\n",
    "P_rural = contingency_table['Rural'].sum() / total_students\n",
    "P_grades = contingency_table.loc['Grades'].sum() / total_students\n",
    "P_rural_and_grades = contingency_table.loc['Grades', 'Rural'] / total_students\n",
    "P_grades_given_rural = P_rural_and_grades / P_rural\n",
    "P_grades_given_rural = round(P_grades_given_rural, 4)\n",
    "\n",
    "# Check for independence\n",
    "independent = P_grades_given_rural == round(P_grades, 4)\n",
    "\n",
    "P_suburban_and_social, P_suburban_given_social, P_social_given_suburban, independent"
   ]
  }
 ],
 "metadata": {
  "kernelspec": {
   "display_name": "base",
   "language": "python",
   "name": "python3"
  },
  "language_info": {
   "codemirror_mode": {
    "name": "ipython",
    "version": 3
   },
   "file_extension": ".py",
   "mimetype": "text/x-python",
   "name": "python",
   "nbconvert_exporter": "python",
   "pygments_lexer": "ipython3",
   "version": "3.11.4"
  }
 },
 "nbformat": 4,
 "nbformat_minor": 2
}
