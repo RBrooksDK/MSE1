{
 "cells": [
  {
   "cell_type": "markdown",
   "metadata": {},
   "source": [
    "### Assignment 1\n",
    "\n",
    "Information is transmitted through a fiber optic cable in the form of bits, which can have the value of 0 or 1 . However, there is noise on the line, so a transmitted 0 will, with a probability of $1 / 10$, be changed to 1 during transmission. A transmitted 1 will, with a probability of $1 / 5$, be changed to 0 during transmission. The probability that a randomly chosen bit is transmitted with the value 0 is $2 / 3$."
   ]
  },
  {
   "cell_type": "code",
   "execution_count": 1,
   "metadata": {},
   "outputs": [
    {
     "name": "stdout",
     "output_type": "stream",
     "text": [
      "a) Probability that the transmitted bit was 0 given the received bit is 0:\n",
      "0.9\n",
      "\n",
      "b) Probability that the transmitted bit was 1 given the received bit is 1:\n",
      "0.8\n",
      "\n",
      "c) Probability that the received bit is different from the transmitted bit:\n",
      "0.13333333333333336\n"
     ]
    }
   ],
   "source": [
    "from sympy import symbols, Eq, solve\n",
    "\n",
    "# Define the probabilities\n",
    "P_A0 = 2/3  # Probability of transmitting 0\n",
    "P_A1 = 1 - P_A0  # Probability of transmitting 1\n",
    "\n",
    "P_B1_given_A0 = 1/10  # Probability of receiving 1 given 0 was transmitted\n",
    "P_B0_given_A1 = 1/5   # Probability of receiving 0 given 1 was transmitted\n",
    "\n",
    "P_B0_given_A0 = 1 - P_B1_given_A0  # Probability of receiving 0 given 0 was transmitted\n",
    "P_B1_given_A1 = 1 - P_B0_given_A1  # Probability of receiving 1 given 1 was transmitted\n",
    "\n",
    "# (a) Probability that transmitted bit was 0 given received bit is 0\n",
    "P_B0 = P_B0_given_A0 * P_A0 + P_B0_given_A1 * P_A1  # Total probability of receiving 0\n",
    "P_A0_given_B0 = P_B0_given_A0 * P_A0 / P_B0  # Bayes' theorem\n",
    "\n",
    "# (b) Probability that transmitted bit was 1 given received bit is 1\n",
    "P_B1 = P_B1_given_A0 * P_A0 + P_B1_given_A1 * P_A1  # Total probability of receiving 1\n",
    "P_A1_given_B1 = P_B1_given_A1 * P_A1 / P_B1  # Bayes' theorem\n",
    "\n",
    "# (c) Probability that the received bit is different from the transmitted bit\n",
    "P_error = P_B1_given_A0 * P_A0 + P_B0_given_A1 * P_A1\n",
    "\n",
    "# Display the results\n",
    "print(\"a) Probability that the transmitted bit was 0 given the received bit is 0:\")\n",
    "print(P_A0_given_B0)\n",
    "\n",
    "print(\"\\nb) Probability that the transmitted bit was 1 given the received bit is 1:\")\n",
    "print(P_A1_given_B1)\n",
    "\n",
    "print(\"\\nc) Probability that the received bit is different from the transmitted bit:\")\n",
    "print(P_error)\n"
   ]
  },
  {
   "cell_type": "markdown",
   "metadata": {},
   "source": [
    "### Assignment 2"
   ]
  },
  {
   "cell_type": "code",
   "execution_count": null,
   "metadata": {},
   "outputs": [],
   "source": [
    "# (a) N/A\n",
    "\n",
    "# (b) N/A\n",
    "\n",
    "# (c) N/A"
   ]
  },
  {
   "cell_type": "markdown",
   "metadata": {},
   "source": [
    "### Assignment 3"
   ]
  },
  {
   "cell_type": "code",
   "execution_count": 3,
   "metadata": {},
   "outputs": [
    {
     "name": "stdout",
     "output_type": "stream",
     "text": [
      "Part (a):\n",
      "Augmented matrix:\n"
     ]
    },
    {
     "data": {
      "image/png": "[encoded data removed]",
      "text/latex": [
       "$\\displaystyle \\left[\\begin{matrix}5 & -5 & 5 & 5\\\\2 & 4 & -6 & 12\\\\10 & -5 & 5 & 30\\end{matrix}\\right]$"
      ],
      "text/plain": [
       "⎡5   -5  5   5 ⎤\n",
       "⎢              ⎥\n",
       "⎢2   4   -6  12⎥\n",
       "⎢              ⎥\n",
       "⎣10  -5  5   30⎦"
      ]
     },
     "metadata": {},
     "output_type": "display_data"
    },
    {
     "name": "stdout",
     "output_type": "stream",
     "text": [
      "Reduced row echelon form:\n"
     ]
    },
    {
     "data": {
      "image/png": "[encoded data removed]",
      "text/latex": [
       "$\\displaystyle \\left[\\begin{matrix}1 & 0 & 0 & 5\\\\0 & 1 & 0 & 11\\\\0 & 0 & 1 & 7\\end{matrix}\\right]$"
      ],
      "text/plain": [
       "⎡1  0  0  5 ⎤\n",
       "⎢           ⎥\n",
       "⎢0  1  0  11⎥\n",
       "⎢           ⎥\n",
       "⎣0  0  1  7 ⎦"
      ]
     },
     "metadata": {},
     "output_type": "display_data"
    },
    {
     "name": "stdout",
     "output_type": "stream",
     "text": [
      "Pivot columns: (0, 1, 2)\n",
      "\n",
      "Part (b):\n",
      "Augmented matrix:\n"
     ]
    },
    {
     "data": {
      "image/png": "[encoded data removed]",
      "text/latex": [
       "$\\displaystyle \\left[\\begin{matrix}1 & 2 & 3 & 0\\\\4 & 5 & 6 & 0\\end{matrix}\\right]$"
      ],
      "text/plain": [
       "⎡1  2  3  0⎤\n",
       "⎢          ⎥\n",
       "⎣4  5  6  0⎦"
      ]
     },
     "metadata": {},
     "output_type": "display_data"
    },
    {
     "name": "stdout",
     "output_type": "stream",
     "text": [
      "Reduced row echelon form:\n"
     ]
    },
    {
     "data": {
      "image/png": "[encoded data removed]",
      "text/latex": [
       "$\\displaystyle \\left[\\begin{matrix}1 & 0 & -1 & 0\\\\0 & 1 & 2 & 0\\end{matrix}\\right]$"
      ],
      "text/plain": [
       "⎡1  0  -1  0⎤\n",
       "⎢           ⎥\n",
       "⎣0  1  2   0⎦"
      ]
     },
     "metadata": {},
     "output_type": "display_data"
    },
    {
     "name": "stdout",
     "output_type": "stream",
     "text": [
      "Pivot columns: (0, 1)\n"
     ]
    }
   ],
   "source": [
    "from sympy import Matrix, symbols, init_printing\n",
    "\n",
    "# Enable pretty printing\n",
    "init_printing()\n",
    "\n",
    "# (a) System 1\n",
    "print(\"Part (a):\")\n",
    "augmented_matrix_a = Matrix([\n",
    "    [5, -5, 5, 5],  # Row 1: 5x1 - 5x2 + 5x3 = 5\n",
    "    [2,  4, -6, 12],  # Row 2: 2x1 + 4x2 - 6x3 = 12\n",
    "    [10, -5, 5, 30]  # Row 3: 10x1 - 5x2 + 5x3 = 30\n",
    "])\n",
    "rref_a = augmented_matrix_a.rref()\n",
    "\n",
    "print(\"Augmented matrix:\")\n",
    "display(augmented_matrix_a)\n",
    "print(\"Reduced row echelon form:\")\n",
    "display(rref_a[0])\n",
    "print(\"Pivot columns:\", rref_a[1])\n",
    "\n",
    "# (b) System 2\n",
    "print(\"\\nPart (b):\")\n",
    "augmented_matrix_b = Matrix([\n",
    "    [1, 2, 3, 0],  # Row 1: x1 + 2x2 + 3x3 = 0\n",
    "    [4, 5, 6, 0]   # Row 2: 4x1 + 5x2 + 6x3 = 0\n",
    "])\n",
    "rref_b = augmented_matrix_b.rref()\n",
    "\n",
    "print(\"Augmented matrix:\")\n",
    "display(augmented_matrix_b)\n",
    "print(\"Reduced row echelon form:\")\n",
    "display(rref_b[0])\n",
    "print(\"Pivot columns:\", rref_b[1])\n"
   ]
  },
  {
   "cell_type": "markdown",
   "metadata": {},
   "source": [
    "### Assignment 4"
   ]
  },
  {
   "cell_type": "code",
   "execution_count": 4,
   "metadata": {},
   "outputs": [
    {
     "name": "stdout",
     "output_type": "stream",
     "text": [
      "Augmented matrix:\n"
     ]
    },
    {
     "data": {
      "image/png": "[encoded data removed]",
      "text/latex": [
       "$\\displaystyle \\left[\\begin{matrix}1 & 0 & 2 & 4 & 6\\\\0 & 4 & -6 & -3 & 0\\\\4 & 8 & -4 & 10 & 1\\end{matrix}\\right]$"
      ],
      "text/plain": [
       "⎡1  0  2   4   6⎤\n",
       "⎢               ⎥\n",
       "⎢0  4  -6  -3  0⎥\n",
       "⎢               ⎥\n",
       "⎣4  8  -4  10  1⎦"
      ]
     },
     "metadata": {},
     "output_type": "display_data"
    },
    {
     "name": "stdout",
     "output_type": "stream",
     "text": [
      "Reduced row echelon form:\n"
     ]
    },
    {
     "data": {
      "image/png": "[encoded data removed]",
      "text/latex": [
       "$\\displaystyle \\left[\\begin{matrix}1 & 0 & 2 & 4 & 0\\\\0 & 1 & - \\frac{3}{2} & - \\frac{3}{4} & 0\\\\0 & 0 & 0 & 0 & 1\\end{matrix}\\right]$"
      ],
      "text/plain": [
       "⎡1  0   2     4    0⎤\n",
       "⎢                   ⎥\n",
       "⎢0  1  -3/2  -3/4  0⎥\n",
       "⎢                   ⎥\n",
       "⎣0  0   0     0    1⎦"
      ]
     },
     "metadata": {},
     "output_type": "display_data"
    },
    {
     "name": "stdout",
     "output_type": "stream",
     "text": [
      "Pivot columns: (0, 1, 4)\n"
     ]
    }
   ],
   "source": [
    "from sympy import Matrix, init_printing\n",
    "\n",
    "# Enable pretty printing for Jupyter\n",
    "init_printing()\n",
    "\n",
    "# Augmented matrix\n",
    "augmented_matrix = Matrix([\n",
    "    [1, 0, 2, 4, 6],  # Row 1: x1 + 2x3 + 4x4 = 6\n",
    "    [0, 4, -6, -3, 0],  # Row 2: 4x2 - 6x3 - 3x4 = 0\n",
    "    [4, 8, -4, 10, 1]  # Row 3: 4x1 + 8x2 - 4x3 + 10x4 = 1\n",
    "])\n",
    "\n",
    "# Reduced row echelon form (RREF)\n",
    "rref = augmented_matrix.rref()\n",
    "\n",
    "# Display results\n",
    "print(\"Augmented matrix:\")\n",
    "display(augmented_matrix)\n",
    "\n",
    "print(\"Reduced row echelon form:\")\n",
    "display(rref[0])\n",
    "\n",
    "print(\"Pivot columns:\", rref[1])\n"
   ]
  },
  {
   "cell_type": "markdown",
   "metadata": {},
   "source": [
    "### Assignment 5"
   ]
  },
  {
   "cell_type": "code",
   "execution_count": 5,
   "metadata": {},
   "outputs": [
    {
     "name": "stdout",
     "output_type": "stream",
     "text": [
      "Augmented matrix:\n"
     ]
    },
    {
     "data": {
      "image/png": "[encoded data removed]",
      "text/latex": [
       "$\\displaystyle \\left[\\begin{matrix}1 & 1 & 1 & 2\\\\1 & 4 & 16 & 5\\\\1 & 6 & 36 & 4\\end{matrix}\\right]$"
      ],
      "text/plain": [
       "⎡1  1  1   2⎤\n",
       "⎢           ⎥\n",
       "⎢1  4  16  5⎥\n",
       "⎢           ⎥\n",
       "⎣1  6  36  4⎦"
      ]
     },
     "metadata": {},
     "output_type": "display_data"
    },
    {
     "name": "stdout",
     "output_type": "stream",
     "text": [
      "Reduced row echelon form:\n"
     ]
    },
    {
     "data": {
      "image/png": "[encoded data removed]",
      "text/latex": [
       "$\\displaystyle \\left[\\begin{matrix}1 & 0 & 0 & - \\frac{1}{5}\\\\0 & 1 & 0 & \\frac{5}{2}\\\\0 & 0 & 1 & - \\frac{3}{10}\\end{matrix}\\right]$"
      ],
      "text/plain": [
       "⎡1  0  0  -1/5 ⎤\n",
       "⎢              ⎥\n",
       "⎢0  1  0   5/2 ⎥\n",
       "⎢              ⎥\n",
       "⎣0  0  1  -3/10⎦"
      ]
     },
     "metadata": {},
     "output_type": "display_data"
    },
    {
     "name": "stdout",
     "output_type": "stream",
     "text": [
      "Solution (a0, a1, a2):\n"
     ]
    },
    {
     "data": {
      "image/png": "[encoded data removed]",
      "text/latex": [
       "$\\displaystyle \\left[\\begin{matrix}- \\frac{1}{5}\\\\\\frac{5}{2}\\\\- \\frac{3}{10}\\end{matrix}\\right]$"
      ],
      "text/plain": [
       "⎡-1/5 ⎤\n",
       "⎢     ⎥\n",
       "⎢ 5/2 ⎥\n",
       "⎢     ⎥\n",
       "⎣-3/10⎦"
      ]
     },
     "metadata": {},
     "output_type": "display_data"
    }
   ],
   "source": [
    "from sympy import Matrix, symbols, init_printing\n",
    "\n",
    "# Enable pretty printing\n",
    "init_printing()\n",
    "\n",
    "# Augmented matrix for the system\n",
    "augmented_matrix = Matrix([\n",
    "    [1, 1, 1, 2],  # Equation 1\n",
    "    [1, 4, 16, 5],  # Equation 2\n",
    "    [1, 6, 36, 4]   # Equation 3\n",
    "])\n",
    "\n",
    "# Reduced row echelon form (RREF)\n",
    "rref = augmented_matrix.rref()\n",
    "\n",
    "# Display results\n",
    "print(\"Augmented matrix:\")\n",
    "display(augmented_matrix)\n",
    "\n",
    "print(\"Reduced row echelon form:\")\n",
    "display(rref[0])\n",
    "\n",
    "print(\"Solution (a0, a1, a2):\")\n",
    "display(rref[0].col(-1))\n"
   ]
  },
  {
   "cell_type": "markdown",
   "metadata": {},
   "source": [
    "### Assignment 6"
   ]
  },
  {
   "cell_type": "code",
   "execution_count": 8,
   "metadata": {},
   "outputs": [
    {
     "data": {
      "image/png": "[encoded data removed]",
      "text/latex": [
       "$\\displaystyle \\left[\\begin{matrix}1 & 0 & 0 & 0 & 44\\\\0 & 1 & 0 & 0 & 22\\\\0 & 0 & 1 & 0 & 27\\\\0 & 0 & 0 & 1 & 39\\end{matrix}\\right]$"
      ],
      "text/plain": [
       "⎡1  0  0  0  44⎤\n",
       "⎢              ⎥\n",
       "⎢0  1  0  0  22⎥\n",
       "⎢              ⎥\n",
       "⎢0  0  1  0  27⎥\n",
       "⎢              ⎥\n",
       "⎣0  0  0  1  39⎦"
      ]
     },
     "execution_count": 8,
     "metadata": {},
     "output_type": "execute_result"
    }
   ],
   "source": [
    "# (a) Answer B\n",
    "\n",
    "# (b)\n",
    "\n",
    "A = Matrix([[1,-2,0,0,0],[0,1,-1,0,-5],[1,0,1,1,110],[1,1,-1,-1,0]])\n",
    "A.rref()[0]"
   ]
  }
 ],
 "metadata": {
  "kernelspec": {
   "display_name": "base",
   "language": "python",
   "name": "python3"
  },
  "language_info": {
   "codemirror_mode": {
    "name": "ipython",
    "version": 3
   },
   "file_extension": ".py",
   "mimetype": "text/x-python",
   "name": "python",
   "nbconvert_exporter": "python",
   "pygments_lexer": "ipython3",
   "version": "3.11.4"
  }
 },
 "nbformat": 4,
 "nbformat_minor": 2
}
